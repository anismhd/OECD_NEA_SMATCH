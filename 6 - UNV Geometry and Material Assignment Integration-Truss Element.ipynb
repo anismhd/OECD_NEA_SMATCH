{
 "cells": [
  {
   "cell_type": "code",
   "execution_count": 1,
   "id": "89ccfa4b-2ff9-4c67-a186-9588992c26ab",
   "metadata": {},
   "outputs": [],
   "source": [
    "import numpy as np\n",
    "import pandas as pd\n",
    "import matplotlib.pyplot as plt\n",
    "import pickle"
   ]
  },
  {
   "cell_type": "code",
   "execution_count": 2,
   "id": "ddf942ba-e490-49b0-99fa-0b8ea8187256",
   "metadata": {},
   "outputs": [],
   "source": [
    "from aerb_unv_reader import UNV"
   ]
  },
  {
   "cell_type": "code",
   "execution_count": 3,
   "id": "763a9219-3819-4c48-bf37-7760035e3a2b",
   "metadata": {},
   "outputs": [],
   "source": [
    "from material_prop_reader import material_section_read"
   ]
  },
  {
   "cell_type": "code",
   "execution_count": 4,
   "id": "c02bb8b5-9e7a-48a5-bf66-81d57222f0dc",
   "metadata": {},
   "outputs": [],
   "source": [
    "with open('EPR_mat.pickle', 'rb') as handle:\n",
    "    EPR_mat = pickle.load(handle)\n",
    "with open('GROUPS.pickle', 'rb') as handle:\n",
    "    GROUPS = pickle.load(handle)\n",
    "with open('ELEM_GROUPS.pickle', 'rb') as handle:\n",
    "    ELEM_GROUPS = pickle.load(handle)\n",
    "with open('NODE_GROUPS.pickle', 'rb') as handle:\n",
    "    NODE_GROUPS = pickle.load(handle)\n",
    "with open('MATERIALS.pickle', 'rb') as handle:\n",
    "    MATERIALS = pickle.load(handle)\n",
    "with open('ELEMENT_MATERIAL_INX.pickle', 'rb') as handle:\n",
    "    ELEMENT_MATERIAL_INX =  pickle.load(handle)\n",
    "with open('Unique_MATERIALS.pickle', 'rb') as handle:\n",
    "    Unique_MATERIALS = pickle.load(handle)"
   ]
  },
  {
   "cell_type": "code",
   "execution_count": 5,
   "id": "890317af-31e1-4653-8807-fb2c7e0ac232",
   "metadata": {},
   "outputs": [],
   "source": [
    "EPR_geo = UNV('InputsV2/PHASE_3_STAGE_1_INPUT_v2/02_Model/CRUAS_NPP.unv')"
   ]
  },
  {
   "cell_type": "markdown",
   "id": "b7303591-a22f-46a8-bd78-3e7f26d360ac",
   "metadata": {},
   "source": [
    "# Truss Elements"
   ]
  },
  {
   "cell_type": "code",
   "execution_count": 6,
   "id": "9451d5aa-0f40-4309-9b9b-5c42e343596b",
   "metadata": {},
   "outputs": [],
   "source": [
    "ROD_ELEMENTS = []\n",
    "for key,value in EPR_mat.section_details['ROD'].items():\n",
    "    ROD_ELEMENTS = ROD_ELEMENTS + list(ELEM_GROUPS[key])"
   ]
  },
  {
   "cell_type": "code",
   "execution_count": 7,
   "id": "33af25b7-54f2-41f8-80de-e8bc07d49128",
   "metadata": {},
   "outputs": [],
   "source": [
    "## READ ALL ELEMENTS\n",
    "ELEMENTS = {}\n",
    "for key,value in EPR_geo.fem['elements'][21].items():\n",
    "    ELEMENTS[key] = {'type':21, 'connectivity':value[-2:]}"
   ]
  },
  {
   "cell_type": "code",
   "execution_count": 8,
   "id": "ef70a839-7d2f-4cd0-a208-0c812699d26b",
   "metadata": {},
   "outputs": [
    {
     "name": "stdout",
     "output_type": "stream",
     "text": [
      "11708 1.0 1.0\n",
      "11709 1.0 1.0\n",
      "11710 1.0 1.0\n",
      "11711 1.0 1.0\n",
      "12843 1.0 1.0\n",
      "12844 1.0 1.0\n",
      "12845 1.0 1.0\n",
      "12846 1.0 1.0\n"
     ]
    }
   ],
   "source": [
    "TRUSS_Sections = {}\n",
    "TRUSS = {}\n",
    "MASTERLIST = {}\n",
    "for gid, details in EPR_mat.section_details['ROD'].items():\n",
    "    if details['type'] == 'RECTANGLE':\n",
    "        area  =  details['parameters'][0]* details['parameters'][0]\n",
    "    elif details['type'] == 'CIRCLE':\n",
    "        area  =  np.pi*details['parameters'][0]**2\n",
    "    elif details['type'] == 'GENERAL':\n",
    "        area  =  details['parameters']\n",
    "    for eid in ELEM_GROUPS[gid]:\n",
    "        if eid in MASTERLIST.keys():\n",
    "            print(eid,area,MASTERLIST[eid])\n",
    "        else:\n",
    "            MASTERLIST[eid] = area\n",
    "        if area in TRUSS.keys():\n",
    "            TRUSS[area].append(eid)\n",
    "        else:\n",
    "             TRUSS[area] = [eid]\n",
    "    \"\"\"\n",
    "    \n",
    "        Spring[eid] = {'nodes':ELEMENTS[eid]['connectivity'],\\\n",
    "                      'DOFs':[1,2,3], 'KK':details['parameters']}\"\"\"\n",
    "for key,els in TRUSS.items():\n",
    "    TRUSS[key] = sorted(set(els))"
   ]
  },
  {
   "cell_type": "code",
   "execution_count": 19,
   "id": "8a37a57e-3ccc-495e-9dde-44e4d044ee7b",
   "metadata": {},
   "outputs": [],
   "source": [
    "with open('TRUSS.pickle', 'wb') as handle:\n",
    "    pickle.dump(TRUSS, handle, protocol=1)\n",
    "with open('TRUSS_ELIST.pickle', 'wb') as handle:\n",
    "    pickle.dump(list(MASTERLIST.keys()), handle, protocol=1)"
   ]
  },
  {
   "cell_type": "code",
   "execution_count": 20,
   "id": "8b2ac6bf-02d3-4c3b-8394-01d183a5100b",
   "metadata": {},
   "outputs": [
    {
     "name": "stdout",
     "output_type": "stream",
     "text": [
      "0.25 6\n",
      "0.48999999999999994 1\n",
      "0.029559245277626364 7\n",
      "0.08244795760081053 21\n",
      "1.0 626\n"
     ]
    }
   ],
   "source": [
    "for key,els in TRUSS.items():\n",
    "    print(key, len(els))"
   ]
  },
  {
   "cell_type": "code",
   "execution_count": 21,
   "id": "59988d74-2a51-4c31-94dc-a778c70b0cd9",
   "metadata": {},
   "outputs": [],
   "source": [
    "# ALL TRUSS INFO ARE GOING INTO ABAQUS - CONFIRMED"
   ]
  },
  {
   "cell_type": "code",
   "execution_count": null,
   "id": "d2ef9914-6e31-4747-b701-d8639f18b5fd",
   "metadata": {},
   "outputs": [],
   "source": []
  }
 ],
 "metadata": {
  "kernelspec": {
   "display_name": "Python 3 (ipykernel)",
   "language": "python",
   "name": "python3"
  },
  "language_info": {
   "codemirror_mode": {
    "name": "ipython",
    "version": 3
   },
   "file_extension": ".py",
   "mimetype": "text/x-python",
   "name": "python",
   "nbconvert_exporter": "python",
   "pygments_lexer": "ipython3",
   "version": "3.12.1"
  }
 },
 "nbformat": 4,
 "nbformat_minor": 5
}
