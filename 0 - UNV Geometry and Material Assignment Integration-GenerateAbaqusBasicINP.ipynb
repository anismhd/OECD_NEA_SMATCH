{
 "cells": [
  {
   "cell_type": "code",
   "execution_count": 1,
   "id": "89ccfa4b-2ff9-4c67-a186-9588992c26ab",
   "metadata": {},
   "outputs": [],
   "source": [
    "import numpy as np\n",
    "import pandas as pd\n",
    "import matplotlib.pyplot as plt\n",
    "import pickle"
   ]
  },
  {
   "cell_type": "code",
   "execution_count": 2,
   "id": "ddf942ba-e490-49b0-99fa-0b8ea8187256",
   "metadata": {},
   "outputs": [],
   "source": [
    "from aerb_unv_reader import UNV"
   ]
  },
  {
   "cell_type": "code",
   "execution_count": 3,
   "id": "763a9219-3819-4c48-bf37-7760035e3a2b",
   "metadata": {},
   "outputs": [],
   "source": [
    "from material_prop_reader import material_section_read"
   ]
  },
  {
   "cell_type": "code",
   "execution_count": 4,
   "id": "c02bb8b5-9e7a-48a5-bf66-81d57222f0dc",
   "metadata": {},
   "outputs": [
    {
     "name": "stdout",
     "output_type": "stream",
     "text": [
      "Execution Time: 0.5815982818603516 seconds for 2411\n",
      "Execution Time: 0.5992558002471924 seconds for 2412\n",
      "Execution Time: 159.03763937950134 seconds for 2477\n",
      "You are rewriting BAN_e30\n",
      "You are rewriting BAN_D20Q2\n",
      "You are rewriting EV\n",
      "You are rewriting EP\n",
      "You are rewriting Nu\n",
      "You are rewriting E_EC_RAD\n",
      "You are rewriting E_EC_DAL\n",
      "You are rewriting E_EC_VOIL\n",
      "TYPE_OF_MODELIZATION;EPAIS;GROUP MESH;EXCENTREMENT\n",
      "TYPE_OF_MODELIZATION;EPAISSEUR;GROUP MESH\n",
      "TYPE_OF_MODELIZATION;GROUP MESH;EPAISSEUR;VECTEUR\n",
      "TYPE_OF_MODELIZATION;GROUP MESH;EPAISSEUR;VECTEUR\n",
      "TYPE_OF_MODELIZATION;GROUP MESH;EPAISSEUR;VECTEUR\n",
      "GROUP OF KNOTS_1;GROUP OF KNOTS_2;DDL_1;DDL_2;COEF_MULT_1;COEF_MULT_2\n",
      "BD4_N2;BD4_N17;DX;DX;1.;-1.\n",
      "BD4_N2;BD4_N17;DY;DY;1.;-1.\n",
      "TYPE ON CONNEXION; GROUP OF KNOTS\n",
      "LIAISON_ELEM;BD5_BASE_BROCHETTE;BD5_CL;PLAQ_POUT_ORTH\n",
      "BD6_BASE_BROCHETTE;BD6_CL;PLAQ_POUT_ORTH\n",
      "BD3_BASE_BROCHETTE;BD3_CL;PLAQ_POUT_ORTH\n",
      "BD7_BASE_BROCHETTE;BD7_CL;PLAQ_POUT_ORTH\n",
      "BD2_BASE_BROCHETTE;BD2_CL;PLAQ_POUT_ORTH\n",
      "BD1_BASE_BROCHETTE;BD1_CL;PLAQ_POUT_ORTH\n",
      "BD4_BASE_BROCHETTE;BD4_CL;PLAQ_POUT_ORTH\n",
      "GROUP_NO;DX;DY;DZ;DRX;DRY;DRZ\n",
      "NRADIER;0;0;0;0;0;0\n",
      "GROUP_NO;DX;DY;DZ;DRX;DRY;DRZ\n",
      "CENT_RAD;0.0;0.0;0.0;0.0;0.0;0.0\n",
      "FOR MORE DESCRIPTION OF THE KEYWORDS CHECK THE WEBSITE : https://code-aster.org/doc/v15/en/man_u/u4/u4.42.01.pdf\n"
     ]
    }
   ],
   "source": [
    "EPR_geo = UNV('InputsV2/PHASE_3_STAGE_1_INPUT_v2/02_Model/CRUAS_NPP.unv')\n",
    "EPR_mat = material_section_read()"
   ]
  },
  {
   "cell_type": "code",
   "execution_count": 5,
   "id": "0ac2dfeb-df6e-4f54-9670-c29ce099a7c6",
   "metadata": {},
   "outputs": [],
   "source": [
    "FreeNodes = np.loadtxt('InputsV2/PHASE_3_STAGE_1_INPUT_v2/02_Model/FreeNodes.dat', dtype=int, delimiter=',')"
   ]
  },
  {
   "cell_type": "code",
   "execution_count": 6,
   "id": "e32880e4-5292-4c3e-bbe5-f8ba6e542860",
   "metadata": {},
   "outputs": [
    {
     "data": {
      "text/plain": [
       "array([  2,   3,   4,   5,   6,   7,   8,   9,  27,  28,  29,  30,  31,\n",
       "        32,  33,  34,  53,  54,  55,  56,  57,  58,  59,  60,  61,  62,\n",
       "        63,  64,  65,  66,  67,  72,  73, 106, 107, 110, 111, 112, 113,\n",
       "       114, 115, 116, 117, 118, 119, 120, 121, 122, 123, 124, 125, 126,\n",
       "       127, 128, 129, 130, 131, 132, 133, 134, 135, 136, 137, 138, 139,\n",
       "       140, 141, 142, 143, 144, 145, 146, 147, 148, 149, 150, 151, 152,\n",
       "       153, 154, 155, 156, 157, 158, 159, 160, 161, 162, 163, 164, 165,\n",
       "       166, 167, 168, 169, 170, 171, 172, 173, 174, 175, 176, 177, 178,\n",
       "       179, 180, 181, 182, 183, 184, 185, 186, 187, 188, 189, 190, 191,\n",
       "       192, 193, 194, 195, 196, 197, 198, 199, 200, 201, 202, 204, 205,\n",
       "       208, 209, 210, 211, 212, 213, 214, 215, 216, 217, 218, 219, 220,\n",
       "       221, 222, 227, 228, 261, 262, 265, 266, 267, 268, 269, 270, 271,\n",
       "       272, 273, 274, 275, 276, 277, 278, 279, 280, 281, 282, 283, 284,\n",
       "       285, 286, 287, 288, 289, 290, 291, 292, 293, 294, 295, 296, 297,\n",
       "       298, 299, 300, 301, 302, 303, 304, 305, 306, 307, 308, 309, 310,\n",
       "       311, 312, 313, 314, 315, 316, 317, 318, 319, 320, 321, 322, 323,\n",
       "       324, 325, 326, 327, 328, 329, 330, 331, 332, 333, 334, 335, 336,\n",
       "       337, 338, 339, 340, 341, 342, 343, 344, 345, 346, 347, 348, 349,\n",
       "       350, 351, 352, 353, 354, 355, 356, 357, 359, 360, 388, 389, 390,\n",
       "       391, 392, 393, 394, 395, 396, 397, 398, 420, 421, 422, 423, 424,\n",
       "       425, 426, 427, 428, 429, 430, 431, 432, 433, 434, 435, 436, 437,\n",
       "       438, 439, 440, 441, 442, 443, 444, 445, 446, 447, 448, 449, 450,\n",
       "       451, 452, 453, 454, 455])"
      ]
     },
     "execution_count": 6,
     "metadata": {},
     "output_type": "execute_result"
    }
   ],
   "source": [
    "FreeNodes"
   ]
  },
  {
   "cell_type": "markdown",
   "id": "26aa272f-5594-4914-9133-263c8e9d5e79",
   "metadata": {},
   "source": [
    "# Converting Geometries"
   ]
  },
  {
   "cell_type": "markdown",
   "id": "0cfb78f3-9d16-4e86-acdf-e2b2e4c0a4d5",
   "metadata": {},
   "source": [
    "## Nodes"
   ]
  },
  {
   "cell_type": "code",
   "execution_count": 7,
   "id": "8875307a-f914-4c59-89ec-04da5e2b7486",
   "metadata": {},
   "outputs": [],
   "source": [
    "abaqus_node_str = '** This is Auto generated nodal details\\n*Node\\n'\n",
    "for key, XYZ in EPR_geo.fem['nodes'].items():\n",
    "    if key in FreeNodes:\n",
    "        continue\n",
    "    abaqus_node_str = abaqus_node_str + '{0:d},{1:f},{2:f},{3:f}\\n'.format(key,XYZ[0],XYZ[1],XYZ[2])"
   ]
  },
  {
   "cell_type": "markdown",
   "id": "2f4cdb50-aa17-4585-b732-64c1d3a38a79",
   "metadata": {},
   "source": [
    "## Elements"
   ]
  },
  {
   "cell_type": "code",
   "execution_count": 8,
   "id": "06ab1a19-6863-4f93-84c1-264b8adda7e3",
   "metadata": {},
   "outputs": [],
   "source": [
    "## READ ALL ELEMENTS\n",
    "ELEMENTS = {}\n",
    "for key,value in EPR_geo.fem['elements'][161].items():\n",
    "    ELEMENTS[key] = {'type':161, 'connectivity':value}\n",
    "for key,value in EPR_geo.fem['elements'][21].items():\n",
    "    ELEMENTS[key] = {'type':21, 'connectivity':value[-2:]}\n",
    "for key,value in EPR_geo.fem['elements'][91].items():\n",
    "    ELEMENTS[key] = {'type':91, 'connectivity':value}\n",
    "for key,value in EPR_geo.fem['elements'][94].items():\n",
    "    ELEMENTS[key] = {'type':94, 'connectivity':value}"
   ]
  },
  {
   "cell_type": "markdown",
   "id": "390735b0-e2f7-4018-9fc0-b40d06c2132a",
   "metadata": {},
   "source": [
    "### Extracting List of Beams, ROD and Springs elements from UNV 21 Type Element"
   ]
  },
  {
   "cell_type": "code",
   "execution_count": 9,
   "id": "b037b7ef-d1d7-4243-afe3-fafe62e6b176",
   "metadata": {},
   "outputs": [],
   "source": [
    "GROUPS = {}\n",
    "for gid, group in EPR_geo.fem['groups'].items():\n",
    "    base = group['group_data'][0][0]\n",
    "    for entry in group['group_data']:\n",
    "        if not(base == entry[0]):\n",
    "            print(group['group_data'])\n",
    "    if base == 7:\n",
    "        typp = 'nodes'\n",
    "    elif base == 8:\n",
    "        typp = 'elements'\n",
    "    GROUPS[group['group_name']] = {'type': typp, 'group': group['group_data'][:,1]}"
   ]
  },
  {
   "cell_type": "code",
   "execution_count": 10,
   "id": "ac9d98dc-cea6-492b-a4d3-996eb347de23",
   "metadata": {},
   "outputs": [],
   "source": [
    "### Writing ROD / Truss Elemnts File\n",
    "abaqus_truss_str = '** This is Auto generated truss element details\\n*Element, type=T3D2\\n'\n",
    "ROD_ELEMENTS = []\n",
    "for key,value in EPR_mat.section_details['ROD'].items():\n",
    "    ROD_ELEMENTS = ROD_ELEMENTS + list(GROUPS[key]['group'])\n",
    "    # abaqus_mass_str = abaqus_mass_str + '{0:d},{1:d}\\n'.format(key,value[0])\n",
    "ROD_ELEMENTS = sorted(set(ROD_ELEMENTS))\n",
    "for elem in ROD_ELEMENTS:\n",
    "    if not(ELEMENTS[elem]['type'] == 21):\n",
    "        print('Wrong element type {0:d}'.format(elem))\n",
    "        continue\n",
    "    abaqus_truss_str = abaqus_truss_str + '{0:d},{1:d},{2:d}\\n'.format(elem,\\\n",
    "                                                ELEMENTS[elem]['connectivity'][0],\\\n",
    "                                                ELEMENTS[elem]['connectivity'][1])"
   ]
  },
  {
   "cell_type": "code",
   "execution_count": 11,
   "id": "24562c19-40b2-4877-8b41-63c54fcf6dac",
   "metadata": {},
   "outputs": [],
   "source": [
    "### Writing Beam Elements File\n",
    "abaqus_beam_str = '** This is Auto generated beam element details\\n*Element, type=B31\\n'\n",
    "BEAMS = []\n",
    "for key,value in EPR_mat.section_details['beam'].items():\n",
    "    BEAMS = BEAMS + list(GROUPS[key]['group'])\n",
    "for elem in BEAMS:\n",
    "    if not(ELEMENTS[elem]['type'] == 21):\n",
    "        print('Wrong element type {0:d}'.format(elem))\n",
    "        continue\n",
    "    abaqus_beam_str = abaqus_beam_str + '{0:d},{1:d},{2:d}\\n'.format(elem,\\\n",
    "                                                ELEMENTS[elem]['connectivity'][0],\\\n",
    "                                                ELEMENTS[elem]['connectivity'][1])"
   ]
  },
  {
   "cell_type": "code",
   "execution_count": 12,
   "id": "b6a48504-d55f-44ad-8ded-153c65d728e8",
   "metadata": {},
   "outputs": [
    {
     "data": {
      "text/plain": [
       "\"for key,elemt in EPR_geo.fem['elements'][21].items():\\n    if key in BEAMS:\\n        continue\\n    elif key in SPRING_ELEMENTS_T+SPRING_ELEMENTS_TR:\\n        continue\\n    elif key in ROD_ELEMENTS:\\n        continue\\n    else:\\n        print('Orfan 21 Type Element - {0:d}'.format(key))\""
      ]
     },
     "execution_count": 12,
     "metadata": {},
     "output_type": "execute_result"
    }
   ],
   "source": [
    "\"\"\"for key,elemt in EPR_geo.fem['elements'][21].items():\n",
    "    if key in BEAMS:\n",
    "        continue\n",
    "    elif key in SPRING_ELEMENTS_T+SPRING_ELEMENTS_TR:\n",
    "        continue\n",
    "    elif key in ROD_ELEMENTS:\n",
    "        continue\n",
    "    else:\n",
    "        print('Orfan 21 Type Element - {0:d}'.format(key))\"\"\""
   ]
  },
  {
   "cell_type": "code",
   "execution_count": 13,
   "id": "ddf88f2f-0671-441c-b985-f406fb6076a7",
   "metadata": {},
   "outputs": [],
   "source": [
    "abaqus_tri_shell_str = '** This is Auto generated Triangular Shell element details\\n*Element, type=S3\\n'\n",
    "for key,value in EPR_geo.fem['elements'][91].items():\n",
    "    abaqus_tri_shell_str = abaqus_tri_shell_str + '{0:d},{1:d},{2:d},{3:d}\\n'.format(key,value[0],value[1],value[2])"
   ]
  },
  {
   "cell_type": "code",
   "execution_count": 14,
   "id": "000d4c46-d791-4fe5-9272-a05b1dae2ae6",
   "metadata": {
    "scrolled": true
   },
   "outputs": [],
   "source": [
    "abaqus_quad_shell_str = '** This is Auto generated Quadrilateral Shell element details\\n*Element, type=S4R\\n'\n",
    "for key,value in EPR_geo.fem['elements'][94].items():\n",
    "    abaqus_quad_shell_str = abaqus_quad_shell_str + '{0:d},{1:d},{2:d},{3:d},{4:d}\\n'.format(key,value[0],value[1],value[2],value[3])"
   ]
  },
  {
   "cell_type": "code",
   "execution_count": 15,
   "id": "f061383d-47c5-4320-9e90-aea348a13e7e",
   "metadata": {},
   "outputs": [
    {
     "data": {
      "text/plain": [
       "'BAN\\nIN\\nBD2_W0V03\\nSTRUC_SEG2\\nBAN_DT1D\\nBAN_DTLM\\nBAN_D2BD3M5\\nBAN_D5BD3M2'"
      ]
     },
     "execution_count": 15,
     "metadata": {},
     "output_type": "execute_result"
    }
   ],
   "source": [
    "\"\"\"BAN\n",
    "IN\n",
    "BD2_W0V03\n",
    "STRUC_SEG2\n",
    "BAN_DT1D\n",
    "BAN_DTLM\n",
    "BAN_D2BD3M5\n",
    "BAN_D5BD3M2\"\"\""
   ]
  },
  {
   "cell_type": "code",
   "execution_count": 16,
   "id": "287b5d0f-8153-4f68-970a-0dc76bee5679",
   "metadata": {},
   "outputs": [],
   "source": [
    "ABQUS_INP_HEADER =\"\"\"*HEADING\n",
    "This Geometry Model Generated using Python Script\n",
    "written by Anis M.V amv@aerb.gov.in\\n\"\"\""
   ]
  },
  {
   "cell_type": "code",
   "execution_count": 17,
   "id": "c093ffe3-e11a-4330-bab3-44f8481db00d",
   "metadata": {},
   "outputs": [],
   "source": [
    "FINAL_INP_Str = ABQUS_INP_HEADER + abaqus_node_str + abaqus_truss_str + \\\n",
    "    abaqus_beam_str + abaqus_tri_shell_str + abaqus_quad_shell_str"
   ]
  },
  {
   "cell_type": "code",
   "execution_count": 18,
   "id": "f6e9f632-74ff-45c7-8ee8-2e13812471d8",
   "metadata": {},
   "outputs": [],
   "source": [
    "with open('AERB_MODELS/Abaqus/geometry_without_group.inp','w') as f:\n",
    "    f.write(FINAL_INP_Str)"
   ]
  },
  {
   "cell_type": "code",
   "execution_count": 19,
   "id": "6324aaaf-6507-4a55-bf05-ad9e5e21b4c4",
   "metadata": {},
   "outputs": [],
   "source": [
    "with open('ELEMENTS.pickle', 'wb') as handle:\n",
    "    pickle.dump(ELEMENTS, handle, protocol=2)\n",
    "with open('NODES.pickle', 'wb') as handle:\n",
    "    pickle.dump(EPR_geo.fem['nodes'], handle, protocol=2)"
   ]
  },
  {
   "cell_type": "code",
   "execution_count": 26,
   "id": "8f61d0ab-6504-47b7-978e-92f790283578",
   "metadata": {},
   "outputs": [
    {
     "data": {
      "text/plain": [
       "{'type': 21, 'connectivity': [22521, 5147]}"
      ]
     },
     "execution_count": 26,
     "metadata": {},
     "output_type": "execute_result"
    }
   ],
   "source": [
    "ELEMENTS[GROUPS['BRI_CNV_SIEC']['group'][0]]"
   ]
  },
  {
   "cell_type": "code",
   "execution_count": null,
   "id": "947f788f-e124-411f-a9be-61a08a93e3bc",
   "metadata": {},
   "outputs": [],
   "source": []
  }
 ],
 "metadata": {
  "kernelspec": {
   "display_name": "Python 3 (ipykernel)",
   "language": "python",
   "name": "python3"
  },
  "language_info": {
   "codemirror_mode": {
    "name": "ipython",
    "version": 3
   },
   "file_extension": ".py",
   "mimetype": "text/x-python",
   "name": "python",
   "nbconvert_exporter": "python",
   "pygments_lexer": "ipython3",
   "version": "3.12.1"
  }
 },
 "nbformat": 4,
 "nbformat_minor": 5
}
