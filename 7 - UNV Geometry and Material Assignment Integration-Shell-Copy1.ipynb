{
 "cells": [
  {
   "cell_type": "code",
   "execution_count": 1,
   "id": "89ccfa4b-2ff9-4c67-a186-9588992c26ab",
   "metadata": {},
   "outputs": [],
   "source": [
    "import numpy as np\n",
    "import pandas as pd\n",
    "import matplotlib.pyplot as plt\n",
    "import pickle"
   ]
  },
  {
   "cell_type": "code",
   "execution_count": 2,
   "id": "ddf942ba-e490-49b0-99fa-0b8ea8187256",
   "metadata": {},
   "outputs": [],
   "source": [
    "from aerb_unv_reader import UNV"
   ]
  },
  {
   "cell_type": "code",
   "execution_count": 3,
   "id": "763a9219-3819-4c48-bf37-7760035e3a2b",
   "metadata": {},
   "outputs": [],
   "source": [
    "from material_prop_reader import material_section_read"
   ]
  },
  {
   "cell_type": "code",
   "execution_count": 4,
   "id": "c02bb8b5-9e7a-48a5-bf66-81d57222f0dc",
   "metadata": {},
   "outputs": [],
   "source": [
    "with open('EPR_mat.pickle', 'rb') as handle:\n",
    "    EPR_mat = pickle.load(handle)\n",
    "with open('GROUPS.pickle', 'rb') as handle:\n",
    "    GROUPS = pickle.load(handle)\n",
    "with open('ELEM_GROUPS.pickle', 'rb') as handle:\n",
    "    ELEM_GROUPS = pickle.load(handle)\n",
    "with open('NODE_GROUPS.pickle', 'rb') as handle:\n",
    "    NODE_GROUPS = pickle.load(handle)\n",
    "with open('MATERIALS.pickle', 'rb') as handle:\n",
    "    MATERIALS = pickle.load(handle)\n",
    "with open('ELEMENT_MATERIAL_INX.pickle', 'rb') as handle:\n",
    "    ELEMENT_MATERIAL_INX =  pickle.load(handle)\n",
    "with open('Unique_MATERIALS.pickle', 'rb') as handle:\n",
    "    Unique_MATERIALS = pickle.load(handle)"
   ]
  },
  {
   "cell_type": "code",
   "execution_count": 5,
   "id": "890317af-31e1-4653-8807-fb2c7e0ac232",
   "metadata": {},
   "outputs": [],
   "source": [
    "EPR_geo = UNV('InputsV2/PHASE_3_STAGE_1_INPUT_v2/02_Model/CRUAS_NPP.unv')"
   ]
  },
  {
   "cell_type": "markdown",
   "id": "b7303591-a22f-46a8-bd78-3e7f26d360ac",
   "metadata": {},
   "source": [
    "# Shell Elements"
   ]
  },
  {
   "cell_type": "code",
   "execution_count": 6,
   "id": "33af25b7-54f2-41f8-80de-e8bc07d49128",
   "metadata": {},
   "outputs": [],
   "source": [
    "## READ ALL ELEMENTS\n",
    "ELEMENTS = {}\n",
    "for key,value in EPR_geo.fem['elements'][91].items():\n",
    "    ELEMENTS[key] = {'type':91, 'connectivity':value}\n",
    "for key,value in EPR_geo.fem['elements'][94].items():\n",
    "    ELEMENTS[key] = {'type':94, 'connectivity':value}"
   ]
  },
  {
   "cell_type": "code",
   "execution_count": 7,
   "id": "3a8401b4-0271-451d-b797-f708bf60ec75",
   "metadata": {},
   "outputs": [],
   "source": [
    "SHELL_ELEMENT_LIST = []\n",
    "for gid, thick in EPR_mat.section_details['COQUE'].items():\n",
    "    SHELL_ELEMENT_LIST = SHELL_ELEMENT_LIST + list(ELEM_GROUPS[gid])\n",
    "for gid, elist in EPR_mat.section_details['SHELL'].items():\n",
    "    SHELL_ELEMENT_LIST = SHELL_ELEMENT_LIST + list(ELEM_GROUPS[gid])\n",
    "SHELL_ELEMENT_LIST = sorted(set(SHELL_ELEMENT_LIST))\n",
    "SHELL_MAST_LIST_DF = pd.DataFrame(data=None, index=list(SHELL_ELEMENT_LIST), columns=['THICKNESS','MATERIALS'])"
   ]
  },
  {
   "cell_type": "code",
   "execution_count": 8,
   "id": "ef87ac82-908e-4dcc-87c7-073cfaa94e99",
   "metadata": {},
   "outputs": [],
   "source": [
    "ShellGroup = {}\n",
    "for gid, thick in EPR_mat.section_details['COQUE'].items():\n",
    "    ShellGroup[gid] = thick[0]\n",
    "for gid, elist in EPR_mat.section_details['SHELL'].items():\n",
    "    ShellGroup[gid] = thick[0]"
   ]
  },
  {
   "cell_type": "code",
   "execution_count": 9,
   "id": "93847aa1-cc97-433c-8360-65928bd9755f",
   "metadata": {},
   "outputs": [],
   "source": [
    "UniquShellGroup = {}\n",
    "for gid,thick in ShellGroup.items():\n",
    "    if thick in UniquShellGroup.keys():\n",
    "        UniquShellGroup[thick]['elements'] = UniquShellGroup[thick]['elements'] + list(ELEM_GROUPS[gid])\n",
    "    else:\n",
    "        UniquShellGroup[thick] = {'elements': list(ELEM_GROUPS[gid]), 'material':{}}\n",
    "    SHELL_MAST_LIST_DF.loc[UniquShellGroup[thick]['elements'],'THICKNESS'] = thick        "
   ]
  },
  {
   "cell_type": "code",
   "execution_count": 10,
   "id": "da631c7e-4f6e-44f8-9953-5b5c0aec6f66",
   "metadata": {},
   "outputs": [],
   "source": [
    "SHELL_MAST_LIST_DF = ELEMENT_MATERIAL_INX.loc[SHELL_ELEMENT_LIST]\n",
    "for key, bm in UniquShellGroup.items():\n",
    "    UniquShellGroup[key]['elements'] = sorted(set(UniquShellGroup[key]['elements']))\n",
    "    mat_list = ELEMENT_MATERIAL_INX.loc[UniquShellGroup[key]['elements'],'MATERIALS'].unique()\n",
    "    tempDB = ELEMENT_MATERIAL_INX.loc[bm['elements']]\n",
    "    for mm in mat_list:\n",
    "         UniquShellGroup[key]['material'][mm] = list(tempDB.index[tempDB['MATERIALS'] == mm])"
   ]
  },
  {
   "cell_type": "code",
   "execution_count": 11,
   "id": "2d14cf7b-3c91-45ec-a2fd-d0487160c718",
   "metadata": {},
   "outputs": [],
   "source": [
    "NN = 0\n",
    "for key, bm in UniquShellGroup.items():\n",
    "    for matName, elist in UniquShellGroup[key]['material'].items():\n",
    "        NN = NN + len(elist)"
   ]
  },
  {
   "cell_type": "code",
   "execution_count": 12,
   "id": "b39d14eb-01ae-4a10-a1db-2c6c3b70ae4c",
   "metadata": {},
   "outputs": [
    {
     "data": {
      "text/plain": [
       "114370"
      ]
     },
     "execution_count": 12,
     "metadata": {},
     "output_type": "execute_result"
    }
   ],
   "source": [
    "NN"
   ]
  },
  {
   "cell_type": "code",
   "execution_count": 13,
   "id": "8f477c7e-086c-4359-92e1-65a270924bc6",
   "metadata": {},
   "outputs": [],
   "source": [
    "with open('UniquShellGroup.pickle', 'wb') as handle:\n",
    "    pickle.dump(UniquShellGroup, handle, protocol=1)"
   ]
  },
  {
   "cell_type": "code",
   "execution_count": 14,
   "id": "0e627e2a-1a96-46c4-bfee-5268cfdb7d19",
   "metadata": {},
   "outputs": [],
   "source": [
    "with open('SHELL_ELEMENT_LIST.pickle', 'wb') as handle:\n",
    "    pickle.dump(SHELL_ELEMENT_LIST, handle, protocol=1)"
   ]
  },
  {
   "cell_type": "code",
   "execution_count": 15,
   "id": "38aa0894-bda6-4ad2-a8dd-303d0222092b",
   "metadata": {},
   "outputs": [
    {
     "data": {
      "text/plain": [
       "114370"
      ]
     },
     "execution_count": 15,
     "metadata": {},
     "output_type": "execute_result"
    }
   ],
   "source": [
    "len(SHELL_ELEMENT_LIST)"
   ]
  },
  {
   "cell_type": "code",
   "execution_count": 17,
   "id": "987f08d6-3ee0-451d-9e10-a59537f52994",
   "metadata": {},
   "outputs": [
    {
     "data": {
      "text/html": [
       "<div>\n",
       "<style scoped>\n",
       "    .dataframe tbody tr th:only-of-type {\n",
       "        vertical-align: middle;\n",
       "    }\n",
       "\n",
       "    .dataframe tbody tr th {\n",
       "        vertical-align: top;\n",
       "    }\n",
       "\n",
       "    .dataframe thead th {\n",
       "        text-align: right;\n",
       "    }\n",
       "</style>\n",
       "<table border=\"1\" class=\"dataframe\">\n",
       "  <thead>\n",
       "    <tr style=\"text-align: right;\">\n",
       "      <th></th>\n",
       "      <th>MATERIALS</th>\n",
       "    </tr>\n",
       "  </thead>\n",
       "  <tbody>\n",
       "    <tr>\n",
       "      <th>13030</th>\n",
       "      <td>GMT815</td>\n",
       "    </tr>\n",
       "    <tr>\n",
       "      <th>13031</th>\n",
       "      <td>BD5_30</td>\n",
       "    </tr>\n",
       "    <tr>\n",
       "      <th>13032</th>\n",
       "      <td>GMT815</td>\n",
       "    </tr>\n",
       "    <tr>\n",
       "      <th>13033</th>\n",
       "      <td>GMT815</td>\n",
       "    </tr>\n",
       "    <tr>\n",
       "      <th>13034</th>\n",
       "      <td>GMT815</td>\n",
       "    </tr>\n",
       "    <tr>\n",
       "      <th>...</th>\n",
       "      <td>...</td>\n",
       "    </tr>\n",
       "    <tr>\n",
       "      <th>127395</th>\n",
       "      <td>BN2PE80</td>\n",
       "    </tr>\n",
       "    <tr>\n",
       "      <th>127396</th>\n",
       "      <td>BN2PE80</td>\n",
       "    </tr>\n",
       "    <tr>\n",
       "      <th>127397</th>\n",
       "      <td>BN2PE80</td>\n",
       "    </tr>\n",
       "    <tr>\n",
       "      <th>127398</th>\n",
       "      <td>BN2PE80</td>\n",
       "    </tr>\n",
       "    <tr>\n",
       "      <th>127399</th>\n",
       "      <td>BN2PE80</td>\n",
       "    </tr>\n",
       "  </tbody>\n",
       "</table>\n",
       "<p>114370 rows × 1 columns</p>\n",
       "</div>"
      ],
      "text/plain": [
       "       MATERIALS\n",
       "13030     GMT815\n",
       "13031     BD5_30\n",
       "13032     GMT815\n",
       "13033     GMT815\n",
       "13034     GMT815\n",
       "...          ...\n",
       "127395   BN2PE80\n",
       "127396   BN2PE80\n",
       "127397   BN2PE80\n",
       "127398   BN2PE80\n",
       "127399   BN2PE80\n",
       "\n",
       "[114370 rows x 1 columns]"
      ]
     },
     "execution_count": 17,
     "metadata": {},
     "output_type": "execute_result"
    }
   ],
   "source": [
    "SHELL_MAST_LIST_DF"
   ]
  },
  {
   "cell_type": "code",
   "execution_count": null,
   "id": "ba991ac5-d1cf-4cfc-ba89-33ac858b5a2f",
   "metadata": {},
   "outputs": [],
   "source": []
  },
  {
   "cell_type": "code",
   "execution_count": null,
   "id": "7f9c7623-c983-4f54-a41e-d89576b8e6ae",
   "metadata": {},
   "outputs": [],
   "source": []
  }
 ],
 "metadata": {
  "kernelspec": {
   "display_name": "Python 3 (ipykernel)",
   "language": "python",
   "name": "python3"
  },
  "language_info": {
   "codemirror_mode": {
    "name": "ipython",
    "version": 3
   },
   "file_extension": ".py",
   "mimetype": "text/x-python",
   "name": "python",
   "nbconvert_exporter": "python",
   "pygments_lexer": "ipython3",
   "version": "3.12.1"
  }
 },
 "nbformat": 4,
 "nbformat_minor": 5
}
