{
 "cells": [
  {
   "cell_type": "code",
   "execution_count": 1,
   "id": "89ccfa4b-2ff9-4c67-a186-9588992c26ab",
   "metadata": {},
   "outputs": [],
   "source": [
    "import numpy as np\n",
    "import pandas as pd\n",
    "import matplotlib.pyplot as plt\n",
    "import pickle"
   ]
  },
  {
   "cell_type": "code",
   "execution_count": 2,
   "id": "ddf942ba-e490-49b0-99fa-0b8ea8187256",
   "metadata": {},
   "outputs": [],
   "source": [
    "from aerb_unv_reader import UNV"
   ]
  },
  {
   "cell_type": "code",
   "execution_count": 3,
   "id": "763a9219-3819-4c48-bf37-7760035e3a2b",
   "metadata": {},
   "outputs": [],
   "source": [
    "from material_prop_reader import material_section_read"
   ]
  },
  {
   "cell_type": "code",
   "execution_count": 4,
   "id": "c02bb8b5-9e7a-48a5-bf66-81d57222f0dc",
   "metadata": {},
   "outputs": [],
   "source": [
    "with open('EPR_mat.pickle', 'rb') as handle:\n",
    "    EPR_mat = pickle.load(handle)\n",
    "with open('GROUPS.pickle', 'rb') as handle:\n",
    "    GROUPS = pickle.load(handle)\n",
    "with open('ELEM_GROUPS.pickle', 'rb') as handle:\n",
    "    ELEM_GROUPS = pickle.load(handle)\n",
    "with open('NODE_GROUPS.pickle', 'rb') as handle:\n",
    "    NODE_GROUPS = pickle.load(handle)\n",
    "with open('MATERIALS.pickle', 'rb') as handle:\n",
    "    MATERIALS = pickle.load(handle)\n",
    "with open('ELEMENT_MATERIAL_INX.pickle', 'rb') as handle:\n",
    "    ELEMENT_MATERIAL_INX =  pickle.load(handle)\n",
    "with open('Unique_MATERIALS.pickle', 'rb') as handle:\n",
    "    Unique_MATERIALS = pickle.load(handle)"
   ]
  },
  {
   "cell_type": "code",
   "execution_count": 5,
   "id": "890317af-31e1-4653-8807-fb2c7e0ac232",
   "metadata": {},
   "outputs": [
    {
     "name": "stdout",
     "output_type": "stream",
     "text": [
      "Execution Time: 0.4479825496673584 seconds for 2411\n",
      "Execution Time: 0.5158796310424805 seconds for 2412\n",
      "Execution Time: 287.58044600486755 seconds for 2477\n"
     ]
    }
   ],
   "source": [
    "EPR_geo = UNV('InputsV2/PHASE_3_STAGE_1_INPUT_v2/02_Model/CRUAS_NPP.unv')"
   ]
  },
  {
   "cell_type": "code",
   "execution_count": 6,
   "id": "faceb460-90d7-4948-bb5f-2982555fbdb7",
   "metadata": {},
   "outputs": [],
   "source": [
    "with open('MPC_Constrains.pickle', 'wb') as handle:\n",
    "    pickle.dump(EPR_mat.MPC, handle, protocol=1)"
   ]
  },
  {
   "cell_type": "code",
   "execution_count": 7,
   "id": "ba991ac5-d1cf-4cfc-ba89-33ac858b5a2f",
   "metadata": {},
   "outputs": [],
   "source": [
    "with open('LIAISON_SOLIDE.pickle', 'wb') as handle:\n",
    "    pickle.dump(EPR_mat.LIAISON_SOLIDE, handle, protocol=1)"
   ]
  },
  {
   "cell_type": "code",
   "execution_count": 8,
   "id": "af560473-c069-44d9-8149-30bb789a008a",
   "metadata": {},
   "outputs": [],
   "source": [
    "LIAISON_ELEM = [ ['BD5_BASE_BROCHETTE','BD5_CL','PLAQ_POUT_ORTH'],\\\n",
    "                ['BD6_BASE_BROCHETTE','BD6_CL','PLAQ_POUT_ORTH'],\\\n",
    "                ['BD3_BASE_BROCHETTE','BD3_CL','PLAQ_POUT_ORTH'],\\\n",
    "                ['BD7_BASE_BROCHETTE','BD7_CL','PLAQ_POUT_ORTH'],\\\n",
    "                ['BD2_BASE_BROCHETTE','BD2_CL','PLAQ_POUT_ORTH'],\\\n",
    "                ['BD1_BASE_BROCHETTE','BD1_CL','PLAQ_POUT_ORTH'],\\\n",
    "                ['BD4_BASE_BROCHETTE','BD4_CL','PLAQ_POUT_ORTH']]"
   ]
  },
  {
   "cell_type": "code",
   "execution_count": 9,
   "id": "a748b64b-c29e-427d-9220-924e7c50df98",
   "metadata": {},
   "outputs": [],
   "source": [
    "for set in LIAISON_ELEM:\n",
    "    if set[0] in NODE_GROUPS.keys():\n",
    "        print(set)\n",
    "    if  set[1] in ELEM_GROUPS.keys():\n",
    "        print(set)"
   ]
  },
  {
   "cell_type": "code",
   "execution_count": 10,
   "id": "241e0cc2-2d3a-4192-a953-616501ecbb83",
   "metadata": {},
   "outputs": [],
   "source": [
    "with open('LIAISON_ELEM.pickle', 'wb') as handle:\n",
    "    pickle.dump(LIAISON_ELEM, handle, protocol=1)"
   ]
  },
  {
   "cell_type": "code",
   "execution_count": 15,
   "id": "58452b36-edd1-45ed-ac97-7ed330bc8152",
   "metadata": {},
   "outputs": [
    {
     "data": {
      "text/plain": [
       "['BD5_SLAB1',\n",
       " 'BD5_SLAB2',\n",
       " 'BD5_SLAB3',\n",
       " 'BD5_SLAB4',\n",
       " 'BD5_SLAB5',\n",
       " 'BD5_SLAB6',\n",
       " 'BD5_SLAB7',\n",
       " 'BD5_SLAB8',\n",
       " 'BD5_SLAB9',\n",
       " 'BD5_SLAB9_10',\n",
       " 'BD5_SLAB10',\n",
       " 'BD5_SLAB11',\n",
       " 'BD5_SLAB11_12',\n",
       " 'BD5_SLAB12',\n",
       " 'BD5_SLAB13_14',\n",
       " 'BD5_SLAB15',\n",
       " 'BD5_SLAB16',\n",
       " 'BD4_RADIER',\n",
       " 'BD6_SLAB1',\n",
       " 'BD6_SLAB2',\n",
       " 'BD6_SLAB3',\n",
       " 'BD6_SLAB4',\n",
       " 'BD6_SLAB5',\n",
       " 'BD6_SLAB6',\n",
       " 'BD6_SLAB7',\n",
       " 'BD6_SLAB8',\n",
       " 'BD6_SLAB9',\n",
       " 'BD6_SLAB9_10',\n",
       " 'BD6_SLAB10',\n",
       " 'BD6_SLAB11',\n",
       " 'BD6_SLAB11_12',\n",
       " 'BD6_SLAB12',\n",
       " 'BD6_SLAB13_14',\n",
       " 'BD6_SLAB15',\n",
       " 'BD6_SLAB16',\n",
       " 'BD1_RADIER_',\n",
       " 'BD1_SLAB2',\n",
       " 'BD1_SLAB3',\n",
       " 'BD1_SLAB4',\n",
       " 'BD1_SLAB5',\n",
       " 'BD1_SLAB6',\n",
       " 'BD1_SLAB7',\n",
       " 'BD1_SLAB8',\n",
       " 'BD2_RADIER_',\n",
       " 'BD2_SLAB2',\n",
       " 'BD2_SLAB3',\n",
       " 'BD2_SLAB4',\n",
       " 'BD2_SLAB5',\n",
       " 'BD2_SLAB6',\n",
       " 'BD2_SLAB7',\n",
       " 'BD2_SLAB8',\n",
       " 'BD7_SLAB1',\n",
       " 'BD7_SLAB2',\n",
       " 'BD7_SLAB3',\n",
       " 'BD7_SLAB4',\n",
       " 'BD7_SLAB5',\n",
       " 'BD7_SLAB6',\n",
       " 'BD7_SLAB7',\n",
       " 'BD7_SLAB8',\n",
       " 'BD7_SLAB9',\n",
       " 'BD7_SLAB10',\n",
       " 'BD7_SLAB11',\n",
       " 'BD7_SLAB12']"
      ]
     },
     "execution_count": 15,
     "metadata": {},
     "output_type": "execute_result"
    }
   ],
   "source": [
    "EPR_mat.LIAISON_SOLIDE"
   ]
  },
  {
   "cell_type": "code",
   "execution_count": 12,
   "id": "267b6221-f792-465a-831b-1d130f99d2af",
   "metadata": {},
   "outputs": [],
   "source": [
    "SASSI_GROUP_IDX = 1\n",
    "def get_sassi_group_index():\n",
    "\tglobal SASSI_GROUP_IDX\n",
    "\tSASSI_GROUP_IDX = SASSI_GROUP_IDX + 1\n",
    "\treturn SASSI_GROUP_IDX-1"
   ]
  },
  {
   "cell_type": "code",
   "execution_count": 13,
   "id": "05769983-512a-4aeb-9986-e4a46a8be1a7",
   "metadata": {},
   "outputs": [],
   "source": [
    "NODES_G = ['EAU_001','EAU_002','EAU_003', 'Upper_raft_BKP_corner', 'Upper_raft_BKI_corner', 'Upper_raft_BEEI_corner', 'Upper_raft_BEEP_corner'] "
   ]
  },
  {
   "cell_type": "code",
   "execution_count": 14,
   "id": "e0d80905-0430-48bc-98d6-917a344cc970",
   "metadata": {},
   "outputs": [
    {
     "ename": "KeyError",
     "evalue": "'Upper_raft_BKP_corner'",
     "output_type": "error",
     "traceback": [
      "\u001b[31m---------------------------------------------------------------------------\u001b[39m",
      "\u001b[31mKeyError\u001b[39m                                  Traceback (most recent call last)",
      "\u001b[36mCell\u001b[39m\u001b[36m \u001b[39m\u001b[32mIn[14]\u001b[39m\u001b[32m, line 1\u001b[39m\n\u001b[32m----> \u001b[39m\u001b[32m1\u001b[39m \u001b[43mNODE_GROUPS\u001b[49m\u001b[43m[\u001b[49m\u001b[33;43m'\u001b[39;49m\u001b[33;43mUpper_raft_BKP_corner\u001b[39;49m\u001b[33;43m'\u001b[39;49m\u001b[43m]\u001b[49m\n",
      "\u001b[31mKeyError\u001b[39m: 'Upper_raft_BKP_corner'"
     ]
    }
   ],
   "source": [
    "NODE_GROUPS['Upper_raft_BKP_corner']"
   ]
  },
  {
   "cell_type": "code",
   "execution_count": null,
   "id": "d2fc4284-1e4b-4523-ab9a-12adf0dd2d37",
   "metadata": {},
   "outputs": [],
   "source": [
    "ELEM_GROUPS['BD5_RESSORT_1']"
   ]
  },
  {
   "cell_type": "code",
   "execution_count": null,
   "id": "c99e0926-4262-4345-a973-846d9c66a1c3",
   "metadata": {},
   "outputs": [],
   "source": []
  }
 ],
 "metadata": {
  "kernelspec": {
   "display_name": "Python 3 (ipykernel)",
   "language": "python",
   "name": "python3"
  },
  "language_info": {
   "codemirror_mode": {
    "name": "ipython",
    "version": 3
   },
   "file_extension": ".py",
   "mimetype": "text/x-python",
   "name": "python",
   "nbconvert_exporter": "python",
   "pygments_lexer": "ipython3",
   "version": "3.13.2"
  }
 },
 "nbformat": 4,
 "nbformat_minor": 5
}
