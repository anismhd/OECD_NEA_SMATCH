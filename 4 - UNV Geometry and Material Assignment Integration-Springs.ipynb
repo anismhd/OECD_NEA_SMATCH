{
 "cells": [
  {
   "cell_type": "code",
   "execution_count": 1,
   "id": "89ccfa4b-2ff9-4c67-a186-9588992c26ab",
   "metadata": {},
   "outputs": [],
   "source": [
    "import numpy as np\n",
    "import pandas as pd\n",
    "import matplotlib.pyplot as plt\n",
    "import pickle"
   ]
  },
  {
   "cell_type": "code",
   "execution_count": 2,
   "id": "ddf942ba-e490-49b0-99fa-0b8ea8187256",
   "metadata": {},
   "outputs": [],
   "source": [
    "from aerb_unv_reader import UNV"
   ]
  },
  {
   "cell_type": "code",
   "execution_count": 3,
   "id": "763a9219-3819-4c48-bf37-7760035e3a2b",
   "metadata": {},
   "outputs": [],
   "source": [
    "from material_prop_reader import material_section_read"
   ]
  },
  {
   "cell_type": "code",
   "execution_count": 4,
   "id": "c02bb8b5-9e7a-48a5-bf66-81d57222f0dc",
   "metadata": {},
   "outputs": [],
   "source": [
    "with open('EPR_mat.pickle', 'rb') as handle:\n",
    "    EPR_mat = pickle.load(handle)\n",
    "with open('GROUPS.pickle', 'rb') as handle:\n",
    "    GROUPS = pickle.load(handle)\n",
    "with open('ELEM_GROUPS.pickle', 'rb') as handle:\n",
    "    ELEM_GROUPS = pickle.load(handle)\n",
    "with open('NODE_GROUPS.pickle', 'rb') as handle:\n",
    "    NODE_GROUPS = pickle.load(handle)"
   ]
  },
  {
   "cell_type": "code",
   "execution_count": 5,
   "id": "890317af-31e1-4653-8807-fb2c7e0ac232",
   "metadata": {},
   "outputs": [
    {
     "name": "stdout",
     "output_type": "stream",
     "text": [
      "Execution Time: 0.5572109222412109 seconds for 2411\n",
      "Execution Time: 0.5844361782073975 seconds for 2412\n",
      "Execution Time: 159.24203300476074 seconds for 2477\n"
     ]
    }
   ],
   "source": [
    "EPR_geo = UNV('InputsV2/PHASE_3_STAGE_1_INPUT_v2/02_Model/CRUAS_NPP.unv')"
   ]
  },
  {
   "cell_type": "markdown",
   "id": "b7303591-a22f-46a8-bd78-3e7f26d360ac",
   "metadata": {},
   "source": [
    "# Spring Elements"
   ]
  },
  {
   "cell_type": "code",
   "execution_count": 6,
   "id": "33af25b7-54f2-41f8-80de-e8bc07d49128",
   "metadata": {},
   "outputs": [],
   "source": [
    "## READ ALL ELEMENTS\n",
    "ELEMENTS = {}\n",
    "for key,value in EPR_geo.fem['elements'][21].items():\n",
    "    ELEMENTS[key] = {'type':21, 'connectivity':value[-2:]}"
   ]
  },
  {
   "cell_type": "code",
   "execution_count": 7,
   "id": "ef70a839-7d2f-4cd0-a208-0c812699d26b",
   "metadata": {},
   "outputs": [],
   "source": [
    "Spring_Groups = {}\n",
    "Spring = {}\n",
    "for gid, details in EPR_mat.section_details['K_T_D_L'].items():\n",
    "    for eid in ELEM_GROUPS[gid]:\n",
    "        Spring[eid] = {'nodes':ELEMENTS[eid]['connectivity'],\\\n",
    "                      'DOFs':[1,2,3], 'KK':details['parameters']}\n",
    "for gid, details in EPR_mat.section_details['K_TR_D_L'].items():\n",
    "    for eid in ELEM_GROUPS[gid]:\n",
    "        Spring[eid] = {'nodes':ELEMENTS[eid]['connectivity'],\\\n",
    "                      'DOFs':[1,2,3,4,5,6], 'KK':details['parameters']}"
   ]
  },
  {
   "cell_type": "code",
   "execution_count": 8,
   "id": "3d73d0d2-ee98-4a9d-94c7-0d15b1abffc3",
   "metadata": {},
   "outputs": [],
   "source": [
    "with open('Spring.pickle', 'wb') as handle:\n",
    "    pickle.dump(Spring, handle, protocol=1)\n",
    "with open('K_T_D_L.pickle', 'wb') as handle:\n",
    "    pickle.dump(EPR_mat.section_details['K_T_D_L'], handle, protocol=1)\n",
    "with open('K_TR_D_L.pickle', 'wb') as handle:\n",
    "    pickle.dump(EPR_mat.section_details['K_TR_D_L'], handle, protocol=1)"
   ]
  },
  {
   "cell_type": "markdown",
   "id": "b8137645-7e6e-46d4-ae1f-293ab719481b",
   "metadata": {},
   "source": [
    "## Writing All Spring Elements As Truss For VErification Only"
   ]
  },
  {
   "cell_type": "code",
   "execution_count": 9,
   "id": "48ea92ae-cddb-4a4f-87af-434a1fa7896c",
   "metadata": {},
   "outputs": [],
   "source": [
    "abaqus_truss_str = '** This is Auto generated truss element details\\n*Element, type=T3D2\\n'\n",
    "for key,elem in Spring.items():\n",
    "    abaqus_truss_str = abaqus_truss_str + '{0:d},{1:d},{2:d}\\n'.format(key,\\\n",
    "                                                elem['nodes'][0],\\\n",
    "                                                elem['nodes'][1])"
   ]
  },
  {
   "cell_type": "code",
   "execution_count": 10,
   "id": "f5a73561-6954-4e09-a729-623b7dfa33e7",
   "metadata": {},
   "outputs": [],
   "source": [
    "abaqus_node_str = '** This is Auto generated nodal details\\n*Node\\n'\n",
    "for key, XYZ in EPR_geo.fem['nodes'].items():\n",
    "    abaqus_node_str = abaqus_node_str + '{0:d},{1:f},{2:f},{3:f}\\n'.format(key,XYZ[0],XYZ[1],XYZ[2])"
   ]
  },
  {
   "cell_type": "code",
   "execution_count": 11,
   "id": "83e89044-a51a-4e9d-9c31-20f22faaef5d",
   "metadata": {},
   "outputs": [],
   "source": [
    "ABQUS_INP_HEADER =\"\"\"*HEADING\n",
    "This Geometry Model Generated using Python Script\n",
    "written by Anis M.V amv@aerb.gov.in\\n\"\"\"\n",
    "FINAL_INP_Str = ABQUS_INP_HEADER + abaqus_node_str + abaqus_truss_str \n",
    "list(ELEMENTS.keys())[-1] + list(ELEMENTS.keys())[0]\n",
    "with open('AERB_MODELS/Abaqus/geometry_springs_as_truss.inp','w') as f:\n",
    "    f.write(FINAL_INP_Str)"
   ]
  },
  {
   "cell_type": "code",
   "execution_count": 24,
   "id": "2cdd07d2-2e89-4882-b857-0943f2f9727d",
   "metadata": {},
   "outputs": [
    {
     "data": {
      "text/plain": [
       "{'nodes': [109, 72],\n",
       " 'DOFs': [1, 2, 3],\n",
       " 'KK': [632640.0629731239, 632640.0629731239, 1]}"
      ]
     },
     "execution_count": 24,
     "metadata": {},
     "output_type": "execute_result"
    }
   ],
   "source": [
    "Spring[5478]"
   ]
  },
  {
   "cell_type": "code",
   "execution_count": 17,
   "id": "b015f12d-35bf-41a9-a839-f8def23ee457",
   "metadata": {},
   "outputs": [
    {
     "data": {
      "text/plain": [
       "array([5655, 5656, 5657, 5658, 5659, 5660, 5661, 5662, 5663, 5664, 5665,\n",
       "       5666, 5667, 5668, 5669, 5670, 5671, 5672, 5673, 5674, 5675, 5676,\n",
       "       5677, 5678, 5679, 5680, 5681, 5682, 5683, 5684, 5685, 5686, 5687,\n",
       "       5688, 5689, 5690, 5691, 5692, 5693, 5694, 5695, 5696, 5697, 5698,\n",
       "       5699, 5700, 5701, 5702, 5703, 5704, 5705, 5706, 5707, 5708, 5709,\n",
       "       5710, 5711, 5712, 5713, 5714, 5715, 5716, 5717, 5718, 5719, 5720,\n",
       "       5721, 5722, 5723, 5724, 5725, 5726, 5727, 5728, 5729, 5730, 5731,\n",
       "       5732, 5733, 5734, 5735, 5736, 5737, 5738, 5739, 5740, 5741, 5742,\n",
       "       5743, 5744, 5745, 5746, 5747, 5748, 5749, 5750, 5751, 5752, 5753,\n",
       "       5754, 5755, 5756, 5757, 5758, 5759, 5760, 5761, 5762, 5763, 5764,\n",
       "       5765, 5766, 5767, 5768, 5769, 5770, 5771, 5772, 5773, 5774, 5775,\n",
       "       5776, 5777, 5791])"
      ]
     },
     "execution_count": 17,
     "metadata": {},
     "output_type": "execute_result"
    }
   ],
   "source": [
    "ELEM_GROUPS['R_C_RBB']"
   ]
  },
  {
   "cell_type": "code",
   "execution_count": 22,
   "id": "53523e38-26d0-4336-b2b3-92d33caa6c1a",
   "metadata": {},
   "outputs": [
    {
     "data": {
      "text/plain": [
       "{'type': 'GENERAL',\n",
       " 'parameters': [60000000.0,\n",
       "  60000000.0,\n",
       "  100000.0,\n",
       "  100000.0,\n",
       "  100000.0,\n",
       "  100000.0]}"
      ]
     },
     "execution_count": 22,
     "metadata": {},
     "output_type": "execute_result"
    }
   ],
   "source": [
    "EPR_mat.section_details['K_TR_D_L']['R_C_RBB']"
   ]
  },
  {
   "cell_type": "code",
   "execution_count": 31,
   "id": "6c9368d3-8e8f-4320-941e-ac9532721eed",
   "metadata": {},
   "outputs": [
    {
     "name": "stdout",
     "output_type": "stream",
     "text": [
      "[5477]\n",
      "[5478]\n",
      "[5502]\n",
      "[5503]\n",
      "[7936 7937 7938 7939 7940 7941 7942 7943 7944 7945 7946 7947 7948 7949\n",
      " 7950 7951 7952 7953 7954 7955 7956 7957 7958 7959 7960 7961 7962 7963\n",
      " 7964 7965 7966 7967 7968 7969 7970 7971 7972 7973 7974 7975 7976 7977\n",
      " 7978 7979 7980 7981 7982 7983 7984 7985 7986 7987 7988 7989 7990 7991\n",
      " 7992 7993 7994 7995 7996 7997 7998 7999 8000 8001 8002 8003 8004 8005\n",
      " 8006 8007 8008 8009 8010 8011 8012 8013 8014 8015 8016 8017 8018 8019\n",
      " 8020 8021 8022 8023 8024 8025 8026 8027 8028 8029 8030 8031 8032 8033\n",
      " 8034 8035 8036 8037 8038 8039 8040 8041 8042 8043 8044 8045 8046 8047\n",
      " 8048 8049 8050 8051 8052 8053 8054 8055 8056 8057 8058 8059 8060 8061\n",
      " 8062 8063 8064 8065 8066 8067 8068 8069 8070 8071 8072 8073 8074 8075\n",
      " 8076 8077 8078 8079 8080 8081 8082 8083 8084 8085 8086 8087 8088 8089\n",
      " 8090 8091 8092 8093 8094 8095 8096 8097 8098 8099 8100 8101 8102 8103\n",
      " 8104 8105 8106 8107 8108 8109 8110 8111 8112 8113 8114 8115 8116 8117\n",
      " 8118 8119 8120 8121 8122 8123 8124 8125 8126 8127 8128 8129 8130 8131\n",
      " 8132 8133 8134 8135 8136 8137 8138 8139 8140 8141 8142 8143 8144 8145\n",
      " 8146 8147 8148 8149 8150 8151 8152 8153 8154 8155 8156 8157 8158 8159\n",
      " 8160 8161 8162 8163 8164 8165 8166 8167 8168 8169 8170 8171 8172 8173\n",
      " 8174 8175 8176 8177 8178 8179 8180 8181 8182 8183 8184 8185 8186 8187\n",
      " 8188 8189 8190 8191 8192 8193 8194 8195 8196 8197 8198 8199 8200 8201\n",
      " 8202 8203 8204 8205 8206 8207 8208 8209 8210 8211 8212 8213 8214 8215\n",
      " 8216 8217 8218 8219 8220 8221 8222 8223 8224 8225 8226 8227 8228 8229\n",
      " 8230 8231 8232 8233 8234 8235 8236 8237 8238 8239 8240 8241 8242 8243\n",
      " 8244 8245 8246 8247 8248 8249 8250 8251 8252 8253 8254 8255 8256 8257\n",
      " 8258 8259 8260 8261 8262 8263 8264 8265 8266 8267 8268 8269 8270 8271\n",
      " 8272 8273 8274 8275 8276 8277 8278 8279 8280 8281 8282 8283 8284 8285\n",
      " 8286 8287 8288 8289 8290 8291 8292 8293 8294 8295 8296 8297 8298 8299\n",
      " 8300 8301 8302 8303 8304 8305 8306 8307 8308 8309 8310 8311 8312 8313\n",
      " 8314 8315 8316 8317 8318 8319 8320 8321 8322 8323 8324 8325 8326 8327\n",
      " 8328 8329 8330 8331 8332 8333 8334 8335 8336 8337 8338 8339 8340 8341\n",
      " 8342 8343 8344 8345 8346 8347 8348 8349 8350 8351 8352 8353 8354 8355\n",
      " 8356 8357 8358 8359 8360 8361 8362 8363 8364 8365 8366 8367 8368 8369\n",
      " 8370 8371 8372 8373 8374 8375 8376 8377 8378 8379 8380 8381 8382 8383\n",
      " 8384 8385 8386 8387 8388 8389 8390 8391 8392 8393 8394 8395 8396 8397\n",
      " 8398 8399 8400 8401 8402 8403 8404 8405 8406 8407 8408 8409 8410 8411\n",
      " 8412 8413 8414 8415 8416 8417 8418 8419 8420 8421 8422 8423 8424 8425\n",
      " 8426 8427 8428 8429 8430 8431 8432 8433 8434 8435 8436 8437 8438 8439\n",
      " 8440 8441 8442 8443 8444 8445 8446 8447 8448 8449 8450 8451 8452 8453\n",
      " 8454 8455 8456 8457 8458 8459 8460 8461 8462 8463 8464 8465 8466 8467\n",
      " 8468 8469 8470 8471 8472 8473 8474 8475 8476 8477 8478 8479 8480 8481\n",
      " 8482 8483 8484 8485 8486 8487 8488 8489 8490 8491 8492 8493 8494 8495\n",
      " 8496 8497 8498 8499 8500 8501 8502 8503 8504 8505 8506 8507 8508 8509\n",
      " 8510 8511 8512 8513 8514 8515 8516 8517 8518 8519 8520 8521 8522 8523\n",
      " 8524 8525 8526 8527 8528 8529 8530 8531 8532 8533 8534 8535 8536 8537\n",
      " 8538 8539 8540 8541 8542 8543 8544 8545 8546 8547 8548 8549 8550 8551\n",
      " 8552 8553 8554 8555 8556 8557 8558 8559 8560 8561 8562 8563 8564 8565\n",
      " 8566 8567 8568 8569 8570 8571 8572 8573 8574 8575 8576 8577 8578 8579\n",
      " 8580 8581 8582 8583 8584 8585 8586 8587 8588 8589 8590 8591 8592 8593\n",
      " 8594 8595 8596 8597 8598 8599 8600 8601 8602 8603 8604 8605 8606 8607\n",
      " 8608 8609 8610 8611 8612 8613 8614 8615 8616 8617 8618 8619 8620 8621\n",
      " 8622 8623 8624 8625 8626 8627 8628 8629 8630 8631 8632 8633 8634 8635\n",
      " 8636 8637 8638 8639 8640 8641 8642 8643 8644 8645 8646 8647 8648 8649\n",
      " 8650 8651 8652 8653 8654 8655 8656 8657 8658 8659 8660 8661 8662 8663\n",
      " 8664 8665 8666 8667 8668 8669 8670 8671 8672 8673 8674 8675 8676 8677\n",
      " 8678 8679 8680 8681 8682 8683 8684 8685 8686 8687 8688 8689 8690 8691\n",
      " 8692 8693 8694 8695 8696 8697 8698 8699 8700 8701 8702 8703 8704 8705\n",
      " 8706 8707 8708 8709 8710 8711 8712 8713 8714 8715 8716 8717 8718 8719\n",
      " 8720 8721 8722 8723 8724 8725 8726 8727 8728 8729 8730 8731 8732 8733\n",
      " 8734 8735 8736 8737 8738 8739 8740 8741 8742 8743 8744 8745 8746 8747\n",
      " 8748 8749 8750 8751 8752 8753 8754 8755 8756 8757 8758 8759 8760 8761\n",
      " 8762 8763 8764 8765 8766 8767 8768 8769 8770 8771 8772 8773 8774 8775\n",
      " 8776 8777 8778 8779 8780 8781 8782 8783 8784 8785 8786 8787 8788 8789\n",
      " 8790 8791 8792 8793 8794 8795 8796 8797 8798 8799 8800 8801 8802 8803\n",
      " 8804 8805 8806 8807 8808 8809 8810 8811 8812 8813 8814 8815 8816 8817\n",
      " 8818 8819 8820 8821 8822 8823 8824 8825 8826 8827 8828 8829 8830 8831\n",
      " 8832 8833 8834 8835 8836 8837 8838 8839 8840 8841 8842 8843 8844 8845\n",
      " 8846 8847 8848 8849 8850 8851 8852 8853 8854 8855 8856 8857 8858 8859\n",
      " 8860 8861]\n",
      "[8878 8879]\n",
      "[8880 8881]\n",
      "[8882]\n",
      "[8886]\n",
      "[8884]\n",
      "[8885]\n"
     ]
    }
   ],
   "source": [
    "for gid, details in EPR_mat.section_details['K_T_D_L'].items():\n",
    "    print(ELEM_GROUPS[gid])"
   ]
  },
  {
   "cell_type": "code",
   "execution_count": null,
   "id": "29dc2211-9a3b-4caf-891d-d98f19adf194",
   "metadata": {},
   "outputs": [],
   "source": []
  }
 ],
 "metadata": {
  "kernelspec": {
   "display_name": "Python 3 (ipykernel)",
   "language": "python",
   "name": "python3"
  },
  "language_info": {
   "codemirror_mode": {
    "name": "ipython",
    "version": 3
   },
   "file_extension": ".py",
   "mimetype": "text/x-python",
   "name": "python",
   "nbconvert_exporter": "python",
   "pygments_lexer": "ipython3",
   "version": "3.12.1"
  }
 },
 "nbformat": 4,
 "nbformat_minor": 5
}
