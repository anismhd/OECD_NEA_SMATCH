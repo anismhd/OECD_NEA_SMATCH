{
 "cells": [
  {
   "cell_type": "code",
   "execution_count": 1,
   "id": "4a153650-7fb5-4fd2-b963-a470595d7226",
   "metadata": {},
   "outputs": [],
   "source": [
    "import numpy as np\n",
    "import pandas as pd\n",
    "import matplotlib.pyplot as plt"
   ]
  },
  {
   "cell_type": "code",
   "execution_count": 2,
   "id": "839d6e6e-06df-4016-900e-dcd547aa338e",
   "metadata": {},
   "outputs": [],
   "source": [
    "from aerb_unv_reader import UNV"
   ]
  },
  {
   "cell_type": "code",
   "execution_count": 3,
   "id": "4bde780f-a2ac-4d71-9289-746896cb70a0",
   "metadata": {},
   "outputs": [],
   "source": [
    "from material_prop_reader import material_section_read"
   ]
  },
  {
   "cell_type": "code",
   "execution_count": 4,
   "id": "b26392d8-dd70-4da1-bb61-68b4fad7ffd1",
   "metadata": {},
   "outputs": [
    {
     "name": "stdout",
     "output_type": "stream",
     "text": [
      "Execution Time: 0.5848307609558105 seconds for 2411\n",
      "Execution Time: 0.5854034423828125 seconds for 2412\n",
      "Execution Time: 159.3981351852417 seconds for 2477\n"
     ]
    }
   ],
   "source": [
    "EPR_geo = UNV('InputsV2/PHASE_3_STAGE_1_INPUT_v2/02_Model/CRUAS_NPP.unv')"
   ]
  },
  {
   "cell_type": "code",
   "execution_count": 5,
   "id": "542b355d-b5ef-4bdc-b777-124a5be6d496",
   "metadata": {},
   "outputs": [
    {
     "name": "stdout",
     "output_type": "stream",
     "text": [
      "Execution Time: 0.5713083744049072 seconds for 2411\n"
     ]
    }
   ],
   "source": [
    "EPR_geo2 = UNV('InputsV2/PHASE_3_STAGE_1_INPUT_v2/02_Model/CRUAS_NPP_without_free_nodes.unv')"
   ]
  },
  {
   "cell_type": "code",
   "execution_count": 6,
   "id": "29596c47-5334-4de8-83b4-71ce37bf332f",
   "metadata": {},
   "outputs": [],
   "source": [
    "EPR_geo2.scanfile()"
   ]
  },
  {
   "cell_type": "code",
   "execution_count": 7,
   "id": "4d76a5e7-a9de-41c8-a906-bfad53c227ad",
   "metadata": {},
   "outputs": [
    {
     "data": {
      "text/plain": [
       "{164: [2, 5], 2420: [8, 16], 2411: [19, 229389]}"
      ]
     },
     "execution_count": 7,
     "metadata": {},
     "output_type": "execute_result"
    }
   ],
   "source": [
    "EPR_geo2.sections"
   ]
  },
  {
   "cell_type": "code",
   "execution_count": 8,
   "id": "a116f514-2722-4466-a385-f2c0e52cd9b4",
   "metadata": {},
   "outputs": [
    {
     "data": {
      "text/plain": [
       "114685"
      ]
     },
     "execution_count": 8,
     "metadata": {},
     "output_type": "execute_result"
    }
   ],
   "source": [
    "len(EPR_geo2.fem['nodes'])"
   ]
  },
  {
   "cell_type": "code",
   "execution_count": 9,
   "id": "d408b3dc-20f5-4440-9fb3-53c74b5048de",
   "metadata": {},
   "outputs": [
    {
     "ename": "SyntaxError",
     "evalue": "invalid syntax (118017001.py, line 4)",
     "output_type": "error",
     "traceback": [
      "\u001b[1;36m  Cell \u001b[1;32mIn[9], line 4\u001b[1;36m\u001b[0m\n\u001b[1;33m    if np.linalg.norm(np.array(node1)-np.array(node2) < 0.01:\u001b[0m\n\u001b[1;37m                                                            ^\u001b[0m\n\u001b[1;31mSyntaxError\u001b[0m\u001b[1;31m:\u001b[0m invalid syntax\n"
     ]
    }
   ],
   "source": [
    "Problems = []\n",
    "for key1,node1 in EPR_geo.fem['nodes'].items():\n",
    "    for key2,node2 in EPR_geo2.fem['nodes'].items():\n",
    "        if np.linalg.norm(np.array(node1)-np.array(node2) < 0.01:\n",
    "            Problems.append([node, EPR_geo2.fem['nodes'][key]])"
   ]
  },
  {
   "cell_type": "code",
   "execution_count": null,
   "id": "4e9717c6-cb23-451b-8aa4-832d3f1cb79c",
   "metadata": {},
   "outputs": [],
   "source": [
    "len(EPR_geo2.fem['nodes'])"
   ]
  },
  {
   "cell_type": "code",
   "execution_count": null,
   "id": "6667640d-252b-4711-9993-9e0a82c850b2",
   "metadata": {},
   "outputs": [],
   "source": [
    "len(EPR_geo.fem['nodes'])"
   ]
  },
  {
   "cell_type": "code",
   "execution_count": null,
   "id": "8e54174a-ed3e-4a10-a212-a017cb39ad52",
   "metadata": {},
   "outputs": [],
   "source": [
    "EPR_geo2.fem['nodes'].keys()"
   ]
  },
  {
   "cell_type": "code",
   "execution_count": null,
   "id": "4e731ff8-2f89-4fcb-b3a0-908de9f74db7",
   "metadata": {},
   "outputs": [],
   "source": []
  }
 ],
 "metadata": {
  "kernelspec": {
   "display_name": "Python 3 (ipykernel)",
   "language": "python",
   "name": "python3"
  },
  "language_info": {
   "codemirror_mode": {
    "name": "ipython",
    "version": 3
   },
   "file_extension": ".py",
   "mimetype": "text/x-python",
   "name": "python",
   "nbconvert_exporter": "python",
   "pygments_lexer": "ipython3",
   "version": "3.12.1"
  }
 },
 "nbformat": 4,
 "nbformat_minor": 5
}
