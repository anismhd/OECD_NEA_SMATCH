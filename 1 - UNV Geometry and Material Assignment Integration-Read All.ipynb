{
 "cells": [
  {
   "cell_type": "code",
   "execution_count": 1,
   "id": "89ccfa4b-2ff9-4c67-a186-9588992c26ab",
   "metadata": {},
   "outputs": [],
   "source": [
    "import numpy as np\n",
    "import pandas as pd\n",
    "import matplotlib.pyplot as plt\n",
    "import pickle\n",
    "import json"
   ]
  },
  {
   "cell_type": "code",
   "execution_count": 2,
   "id": "ddf942ba-e490-49b0-99fa-0b8ea8187256",
   "metadata": {},
   "outputs": [],
   "source": [
    "from aerb_unv_reader import UNV"
   ]
  },
  {
   "cell_type": "code",
   "execution_count": 3,
   "id": "763a9219-3819-4c48-bf37-7760035e3a2b",
   "metadata": {},
   "outputs": [],
   "source": [
    "from material_prop_reader import material_section_read"
   ]
  },
  {
   "cell_type": "code",
   "execution_count": 4,
   "id": "c02bb8b5-9e7a-48a5-bf66-81d57222f0dc",
   "metadata": {},
   "outputs": [
    {
     "name": "stdout",
     "output_type": "stream",
     "text": [
      "You are rewriting BAN_e30\n",
      "You are rewriting BAN_D20Q2\n",
      "You are rewriting EV\n",
      "You are rewriting EP\n",
      "You are rewriting Nu\n",
      "You are rewriting E_EC_RAD\n",
      "You are rewriting E_EC_DAL\n",
      "You are rewriting E_EC_VOIL\n",
      "TYPE_OF_MODELIZATION;EPAIS;GROUP MESH;EXCENTREMENT\n",
      "TYPE_OF_MODELIZATION;EPAISSEUR;GROUP MESH\n",
      "TYPE_OF_MODELIZATION;GROUP MESH;EPAISSEUR;VECTEUR\n",
      "TYPE_OF_MODELIZATION;GROUP MESH;EPAISSEUR;VECTEUR\n",
      "TYPE_OF_MODELIZATION;GROUP MESH;EPAISSEUR;VECTEUR\n",
      "GROUP OF KNOTS_1;GROUP OF KNOTS_2;DDL_1;DDL_2;COEF_MULT_1;COEF_MULT_2\n",
      "BD4_N2;BD4_N17;DX;DX;1.;-1.\n",
      "BD4_N2;BD4_N17;DY;DY;1.;-1.\n",
      "TYPE ON CONNEXION; GROUP OF KNOTS\n",
      "LIAISON_ELEM;BD5_BASE_BROCHETTE;BD5_CL;PLAQ_POUT_ORTH\n",
      "BD6_BASE_BROCHETTE;BD6_CL;PLAQ_POUT_ORTH\n",
      "BD3_BASE_BROCHETTE;BD3_CL;PLAQ_POUT_ORTH\n",
      "BD7_BASE_BROCHETTE;BD7_CL;PLAQ_POUT_ORTH\n",
      "BD2_BASE_BROCHETTE;BD2_CL;PLAQ_POUT_ORTH\n",
      "BD1_BASE_BROCHETTE;BD1_CL;PLAQ_POUT_ORTH\n",
      "BD4_BASE_BROCHETTE;BD4_CL;PLAQ_POUT_ORTH\n",
      "GROUP_NO;DX;DY;DZ;DRX;DRY;DRZ\n",
      "NRADIER;0;0;0;0;0;0\n",
      "GROUP_NO;DX;DY;DZ;DRX;DRY;DRZ\n",
      "CENT_RAD;0.0;0.0;0.0;0.0;0.0;0.0\n",
      "FOR MORE DESCRIPTION OF THE KEYWORDS CHECK THE WEBSITE : https://code-aster.org/doc/v15/en/man_u/u4/u4.42.01.pdf\n"
     ]
    }
   ],
   "source": [
    "EPR_geo = UNV('InputsV2/PHASE_3_STAGE_1_INPUT_v2/02_Model/CRUAS_NPP.unv')\n",
    "EPR_mat = material_section_read()"
   ]
  },
  {
   "cell_type": "code",
   "execution_count": 5,
   "id": "5ec39bf7-0159-4b08-b491-ac4858456334",
   "metadata": {},
   "outputs": [],
   "source": [
    "with open('EPR_mat.pickle', 'wb') as handle:\n",
    "    pickle.dump(EPR_mat, handle, protocol=2)"
   ]
  },
  {
   "cell_type": "code",
   "execution_count": 10,
   "id": "b60e931d-a1b3-4f41-88e8-00a33ad32efc",
   "metadata": {},
   "outputs": [],
   "source": [
    "FreeNodes = np.loadtxt('InputsV2/PHASE_3_STAGE_1_INPUT_v2/02_Model/FreeNodes.dat', dtype=int, delimiter=',')"
   ]
  },
  {
   "cell_type": "markdown",
   "id": "390735b0-e2f7-4018-9fc0-b40d06c2132a",
   "metadata": {},
   "source": [
    "# Read All Groups"
   ]
  },
  {
   "cell_type": "code",
   "execution_count": 6,
   "id": "b037b7ef-d1d7-4243-afe3-fafe62e6b176",
   "metadata": {},
   "outputs": [],
   "source": [
    "GROUPS = {}\n",
    "for gid, group in EPR_geo.fem['groups'].items():\n",
    "    base = group['group_data'][0][0]\n",
    "    for entry in group['group_data']:\n",
    "        if not(base == entry[0]):\n",
    "            print(group['group_data'])\n",
    "    if base == 7:\n",
    "        typp = 'nodes'\n",
    "    elif base == 8:\n",
    "        typp = 'elements'\n",
    "    GROUPS[group['group_name']] = {'type': typp, 'group': group['group_data'][:,1]}"
   ]
  },
  {
   "cell_type": "code",
   "execution_count": 13,
   "id": "7c7ac526-b9b1-4805-9857-f70b1a03029c",
   "metadata": {},
   "outputs": [
    {
     "data": {
      "text/plain": [
       "{'type': 'nodes', 'group': array([ 1,  9, 10])}"
      ]
     },
     "execution_count": 13,
     "metadata": {},
     "output_type": "execute_result"
    }
   ],
   "source": [
    " GROUPS['BD1_RADIER_']"
   ]
  },
  {
   "cell_type": "code",
   "execution_count": 7,
   "id": "d88a777d-5416-47d8-af2f-7d238bfb677b",
   "metadata": {},
   "outputs": [],
   "source": [
    "with open('GROUPS.pickle', 'wb') as handle:\n",
    "    pickle.dump(GROUPS, handle, protocol=2)"
   ]
  },
  {
   "cell_type": "code",
   "execution_count": 8,
   "id": "32c192e6-ab4c-4688-bd75-7df89979ac92",
   "metadata": {},
   "outputs": [],
   "source": [
    "ELEM_GROUPS = {}\n",
    "NODE_GROUPS = {}\n",
    "for gid, group in EPR_geo.fem['groups'].items():\n",
    "    base = group['group_data'][0][0]\n",
    "    for entry in group['group_data']:\n",
    "        if not(base == entry[0]):\n",
    "            print(group['group_data'])\n",
    "    if base == 7:\n",
    "        if gid in NODE_GROUPS.keys():\n",
    "            print(gid)\n",
    "        NODE_GROUPS[group['group_name']] = group['group_data'][:,1]\n",
    "    elif base == 8:\n",
    "        if gid in ELEM_GROUPS.keys():\n",
    "            print(gid)\n",
    "        ELEM_GROUPS[group['group_name']] = group['group_data'][:,1]"
   ]
  },
  {
   "cell_type": "code",
   "execution_count": 9,
   "id": "40caa894-9f8e-4d74-93ba-e2eeb514b767",
   "metadata": {},
   "outputs": [],
   "source": [
    "with open('ELEM_GROUPS.pickle', 'wb') as handle:\n",
    "    pickle.dump(ELEM_GROUPS, handle, protocol=2)\n",
    "with open('NODE_GROUPS.pickle', 'wb') as handle:\n",
    "    pickle.dump(NODE_GROUPS, handle, protocol=2)"
   ]
  },
  {
   "cell_type": "code",
   "execution_count": null,
   "id": "ce28d8ce-84fe-43f1-a516-72011aa3c48d",
   "metadata": {},
   "outputs": [],
   "source": []
  }
 ],
 "metadata": {
  "kernelspec": {
   "display_name": "Python 3 (ipykernel)",
   "language": "python",
   "name": "python3"
  },
  "language_info": {
   "codemirror_mode": {
    "name": "ipython",
    "version": 3
   },
   "file_extension": ".py",
   "mimetype": "text/x-python",
   "name": "python",
   "nbconvert_exporter": "python",
   "pygments_lexer": "ipython3",
   "version": "3.12.1"
  }
 },
 "nbformat": 4,
 "nbformat_minor": 5
}
